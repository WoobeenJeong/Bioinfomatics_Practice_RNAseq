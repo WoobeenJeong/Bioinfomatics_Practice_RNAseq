{
  "nbformat": 4,
  "nbformat_minor": 0,
  "metadata": {
    "colab": {
      "provenance": [],
      "authorship_tag": "ABX9TyNFBlMmI0AL2oj5a6tysjRF",
      "include_colab_link": true
    },
    "kernelspec": {
      "name": "python3",
      "display_name": "Python 3"
    },
    "language_info": {
      "name": "python"
    }
  },
  "cells": [
    {
      "cell_type": "markdown",
      "metadata": {
        "id": "view-in-github",
        "colab_type": "text"
      },
      "source": [
        "<a href=\"https://colab.research.google.com/github/WoobeenJeong/Bioinfomatics_Practice_RNAseq/blob/main/Project_jwb.ipynb\" target=\"_parent\"><img src=\"https://colab.research.google.com/assets/colab-badge.svg\" alt=\"Open In Colab\"/></a>"
      ]
    },
    {
      "cell_type": "markdown",
      "source": [
        "**1) Data mounting**"
      ],
      "metadata": {
        "id": "bpP3b34tMVlI"
      }
    },
    {
      "cell_type": "code",
      "execution_count": 1,
      "metadata": {
        "colab": {
          "base_uri": "https://localhost:8080/"
        },
        "id": "ucOASOB2MKSS",
        "outputId": "72e33116-d724-4aac-afc3-44eef832dbd8"
      },
      "outputs": [
        {
          "output_type": "stream",
          "name": "stdout",
          "text": [
            "Mounted at /content/drive\n"
          ]
        }
      ],
      "source": [
        "from google.colab import drive\n",
        "drive.mount('/content/drive')"
      ]
    },
    {
      "cell_type": "markdown",
      "source": [
        "**2) Environment setting**"
      ],
      "metadata": {
        "id": "HGeYUN4bNg0Y"
      }
    },
    {
      "cell_type": "code",
      "source": [
        "!git clone https://github.com/hyeshik/colab-biolab.git\n",
        "!cd colab-biolab && bash tools/setup.sh\n",
        "exec(open('colab-biolab/tools/activate_conda.py').read())"
      ],
      "metadata": {
        "id": "qpAeDN_xNoiI"
      },
      "execution_count": null,
      "outputs": []
    },
    {
      "cell_type": "code",
      "source": [
        "!conda install -y bedtools bioawk samtools"
      ],
      "metadata": {
        "id": "_eQeafJils95"
      },
      "execution_count": null,
      "outputs": []
    },
    {
      "cell_type": "markdown",
      "source": [
        "**3) Data loading & check**"
      ],
      "metadata": {
        "id": "ZtTJ5WTneSTX"
      }
    },
    {
      "cell_type": "code",
      "source": [
        "%cd /content/drive/MyDrive/binfo1-work"
      ],
      "metadata": {
        "colab": {
          "base_uri": "https://localhost:8080/"
        },
        "id": "3ovWb7O0eYGf",
        "outputId": "2a4d64b5-b909-49b7-8b71-7f4b55bc3473"
      },
      "execution_count": 5,
      "outputs": [
        {
          "output_type": "stream",
          "name": "stdout",
          "text": [
            "/content/drive/MyDrive/binfo1-work\n"
          ]
        }
      ]
    },
    {
      "cell_type": "code",
      "source": [
        "!ls -al /content/drive/MyDrive/binfo1-work/"
      ],
      "metadata": {
        "id": "bu9blLM8lCjn"
      },
      "execution_count": null,
      "outputs": []
    },
    {
      "cell_type": "code",
      "source": [
        "!md5sum /content/drive/MyDrive/binfo1-work/*"
      ],
      "metadata": {
        "colab": {
          "base_uri": "https://localhost:8080/"
        },
        "id": "OrbqDw1tkugu",
        "outputId": "74cf2102-a1b2-48db-f15a-56c64378e9c9"
      },
      "execution_count": 12,
      "outputs": [
        {
          "output_type": "stream",
          "name": "stdout",
          "text": [
            "140aaf30bcb9276cc716f8699f04ddd6  /content/drive/MyDrive/binfo1-work/CLIP-35L33G.bam\n",
            "f1b3336ed7e2f97d562dcc71641251bd  /content/drive/MyDrive/binfo1-work/CLIP-35L33G.bam.bai\n",
            "3a2348b2eb684202fe8226b154e05aea  /content/drive/MyDrive/binfo1-work/filtered-RPF-siLuc.bam\n",
            "2b5021d2ac3d4830fd963d950a2dc0b8  /content/drive/MyDrive/binfo1-work/fivepcounts-filtered-RPF-siLuc.txt\n",
            "e22f2adecc2da272b1297850ac463105  /content/drive/MyDrive/binfo1-work/fivepcounts-RPF-siLuc.bed\n",
            "ed47186ee44654792a8a130c695f3a22  /content/drive/MyDrive/binfo1-work/gencode-exons-containing-startcodon.bed\n",
            "d54d428f5872030c4ffc43058709b896  /content/drive/MyDrive/binfo1-work/gencode.gtf\n",
            "3469e3e3e018302c5488adc052fd1e21  /content/drive/MyDrive/binfo1-work/gencode-plusexon.gtf\n",
            "b1c38579a9e8e0313c1508f02ce0afaf  /content/drive/MyDrive/binfo1-work/gencode-start.gtf\n",
            "2386750ffd7ddd7288bb821ca018069b  /content/drive/MyDrive/binfo1-work/matches.txt\n",
            "2698e6c8e30005ebc0593d3b9e9b5c58  /content/drive/MyDrive/binfo1-work/read-counts.txt\n",
            "7c9528c08ed2f1ae6e2de599db1aa8fb  /content/drive/MyDrive/binfo1-work/read-counts.txt.summary\n",
            "328883a73d507eafbf5b60bd6b906201  /content/drive/MyDrive/binfo1-work/RNA-control.bam\n",
            "02073818e2f398a73c3b76e5169de1ca  /content/drive/MyDrive/binfo1-work/RNA-control.bam.bai\n",
            "b09550d09d6c2a4ce27f0226f426fdb1  /content/drive/MyDrive/binfo1-work/RNA-siLin28a.bam\n",
            "fef112c727244060ea62d3f2564a07f6  /content/drive/MyDrive/binfo1-work/RNA-siLin28a.bam.bai\n",
            "28bbd0c47d725669340c784f1b772c01  /content/drive/MyDrive/binfo1-work/RNA-siLuc.bam\n",
            "43590fdc4d81905c0432e0d1cb8cfd5b  /content/drive/MyDrive/binfo1-work/RNA-siLuc.bam.bai\n",
            "5c08a9297307bc83259e658c4474f0cc  /content/drive/MyDrive/binfo1-work/RPF-siLin28a.bam\n",
            "a1bb3e29be412dfd7fd8d16b1b1acc4c  /content/drive/MyDrive/binfo1-work/RPF-siLin28a.bam.bai\n",
            "f2eebf50943024d0116c9cd3e744c707  /content/drive/MyDrive/binfo1-work/RPF-siLuc.bam\n",
            "dc24f69e8f571fc8be30f28ce5b84fcd  /content/drive/MyDrive/binfo1-work/RPF-siLuc.bam.bai\n"
          ]
        }
      ]
    },
    {
      "cell_type": "markdown",
      "source": [
        "**4) Background setting**"
      ],
      "metadata": {
        "id": "ziU8sAjtlk1T"
      }
    },
    {
      "cell_type": "code",
      "source": [
        "%cd /content/drive/MyDrive/binfo1-work\n",
        "import pandas as pd\n",
        "import numpy as np\n",
        "import matplotlib.pyplot as plt\n",
        "import re\n",
        "from collections import Counter"
      ],
      "metadata": {
        "colab": {
          "base_uri": "https://localhost:8080/"
        },
        "id": "bXc89_vbuqLF",
        "outputId": "6a3b2609-a052-4ad2-ef61-e75a94c6c937"
      },
      "execution_count": 47,
      "outputs": [
        {
          "output_type": "stream",
          "name": "stdout",
          "text": [
            "/content/drive/MyDrive/binfo1-work\n"
          ]
        }
      ]
    },
    {
      "cell_type": "markdown",
      "source": [
        "**5) Target region on CLIP-seq using gencode.gtf**"
      ],
      "metadata": {
        "id": "Acfq33BwuWG8"
      }
    },
    {
      "cell_type": "code",
      "source": [
        "!grep -i mirlet7g gencode.gtf"
      ],
      "metadata": {
        "colab": {
          "base_uri": "https://localhost:8080/"
        },
        "id": "X9DADACplkNA",
        "outputId": "a8981eb6-c6fe-49f4-bd0f-288168b284f9"
      },
      "execution_count": 14,
      "outputs": [
        {
          "output_type": "stream",
          "name": "stdout",
          "text": [
            "chr9\tENSEMBL\tgene\t106056039\t106056126\t.\t+\t.\tgene_id \"ENSMUSG00000065440.3\"; gene_type \"miRNA\"; gene_name \"Mirlet7g\"; level 3; mgi_id \"MGI:2676800\";\n",
            "chr9\tENSEMBL\ttranscript\t106056039\t106056126\t.\t+\t.\tgene_id \"ENSMUSG00000065440.3\"; transcript_id \"ENSMUST00000083506.3\"; gene_type \"miRNA\"; gene_name \"Mirlet7g\"; transcript_type \"miRNA\"; transcript_name \"Mirlet7g-201\"; level 3; transcript_support_level \"NA\"; mgi_id \"MGI:2676800\"; tag \"basic\";\n",
            "chr9\tENSEMBL\texon\t106056039\t106056126\t.\t+\t.\tgene_id \"ENSMUSG00000065440.3\"; transcript_id \"ENSMUST00000083506.3\"; gene_type \"miRNA\"; gene_name \"Mirlet7g\"; transcript_type \"miRNA\"; transcript_name \"Mirlet7g-201\"; exon_number 1; exon_id \"ENSMUSE00000522665.2\"; level 3; transcript_support_level \"NA\"; mgi_id \"MGI:2676800\"; tag \"basic\";\n"
          ]
        }
      ]
    },
    {
      "cell_type": "code",
      "source": [
        "!samtools view -b -o CLIP-let7g.bam CLIP-35L33G.bam chr9:106056039-106056126\n",
        "!samtools view CLIP-let7g.bam | wc -l"
      ],
      "metadata": {
        "colab": {
          "base_uri": "https://localhost:8080/"
        },
        "id": "LXV6_-8ImZzi",
        "outputId": "90437b36-5b89-40a4-eaea-6fa535e26c97"
      },
      "execution_count": 15,
      "outputs": [
        {
          "output_type": "stream",
          "name": "stdout",
          "text": [
            "163\n"
          ]
        }
      ]
    },
    {
      "cell_type": "code",
      "source": [
        "!samtools mpileup CLIP-let7g.bam 2>/dev/null > CLIP-let7g.pileup\n",
        "!wc -l CLIP-let7g.pileup"
      ],
      "metadata": {
        "colab": {
          "base_uri": "https://localhost:8080/"
        },
        "id": "nyTSgF52mk6Y",
        "outputId": "8f3e10c1-6672-4921-e22a-2f8f469c79a5"
      },
      "execution_count": 41,
      "outputs": [
        {
          "output_type": "stream",
          "name": "stdout",
          "text": [
            "68548 CLIP-let7g.pileup\n"
          ]
        }
      ]
    },
    {
      "cell_type": "code",
      "source": [
        "!head -n 2 CLIP-let7g.pileup"
      ],
      "metadata": {
        "colab": {
          "base_uri": "https://localhost:8080/"
        },
        "id": "024_NFD7pV89",
        "outputId": "6045215d-05cf-4c37-8cb3-599d3462dde3"
      },
      "execution_count": 51,
      "outputs": [
        {
          "output_type": "stream",
          "name": "stdout",
          "text": [
            "chr9\t106007092\tN\t9\t^Ga^Ia^Ha^Ia^Ga^Ga^Ha^Ia^Ia\t<IFIGGHII\n",
            "chr9\t106007093\tN\t9\tggggggggg\tAFGIEGDII\n"
          ]
        }
      ]
    },
    {
      "cell_type": "code",
      "source": [
        "!awk '$2 >= 106056039 && $2 <= 106056126 { print $0; }' CLIP-let7g.pileup > CLIP-let7g-gene.pileup\n",
        "!tail -n 2 CLIP-let7g-gene.pileup"
      ],
      "metadata": {
        "colab": {
          "base_uri": "https://localhost:8080/"
        },
        "id": "CMS0CCwqoDTm",
        "outputId": "f9c0779c-602d-46ad-f0d4-a9b95680ba64"
      },
      "execution_count": 52,
      "outputs": [
        {
          "output_type": "stream",
          "name": "stdout",
          "text": [
            "chr9\t106056125\tN\t31\t<<<<<<<<<GGGGGGGGGGGGGGGGGGGGGG\tBHEIG?DIIIIIIGGE@GFIGD;GIGIIFHD\n",
            "chr9\t106056126\tN\t30\t<<<<<<<<<GGGGGGGGGGGGGGGGGGGGG\tBHEIG?DIIIIGHGHIGHI>G;GGGIGIHG\n"
          ]
        }
      ]
    },
    {
      "cell_type": "code",
      "source": [
        "pileup = pd.read_csv('CLIP-let7g-gene.pileup', sep='\\t', names=['chrom', 'pos', '_ref', 'count', 'basereads', 'quals'])\n",
        "pileup.tail(n=3)"
      ],
      "metadata": {
        "colab": {
          "base_uri": "https://localhost:8080/",
          "height": 143
        },
        "id": "k7SVUR_sraWV",
        "outputId": "ccdced06-2dc2-4651-e282-99b270f9735f"
      },
      "execution_count": 54,
      "outputs": [
        {
          "output_type": "execute_result",
          "data": {
            "text/plain": [
              "   chrom        pos _ref  count                        basereads  \\\n",
              "85  chr9  106056124    N     31  <<<<<<<<<AAAAAAAAAAAAAAAAAAAAAA   \n",
              "86  chr9  106056125    N     31  <<<<<<<<<GGGGGGGGGGGGGGGGGGGGGG   \n",
              "87  chr9  106056126    N     30   <<<<<<<<<GGGGGGGGGGGGGGGGGGGGG   \n",
              "\n",
              "                              quals  \n",
              "85  BHEIG?DIIIIHIGGIGGGIG:9DDBIEGFH  \n",
              "86  BHEIG?DIIIIIIGGE@GFIGD;GIGIIFHD  \n",
              "87   BHEIG?DIIIIGHGHIGHI>G;GGGIGIHG  "
            ],
            "text/html": [
              "\n",
              "  <div id=\"df-5992d9d9-9361-4306-ba53-8cc1b9899cbc\">\n",
              "    <div class=\"colab-df-container\">\n",
              "      <div>\n",
              "<style scoped>\n",
              "    .dataframe tbody tr th:only-of-type {\n",
              "        vertical-align: middle;\n",
              "    }\n",
              "\n",
              "    .dataframe tbody tr th {\n",
              "        vertical-align: top;\n",
              "    }\n",
              "\n",
              "    .dataframe thead th {\n",
              "        text-align: right;\n",
              "    }\n",
              "</style>\n",
              "<table border=\"1\" class=\"dataframe\">\n",
              "  <thead>\n",
              "    <tr style=\"text-align: right;\">\n",
              "      <th></th>\n",
              "      <th>chrom</th>\n",
              "      <th>pos</th>\n",
              "      <th>_ref</th>\n",
              "      <th>count</th>\n",
              "      <th>basereads</th>\n",
              "      <th>quals</th>\n",
              "    </tr>\n",
              "  </thead>\n",
              "  <tbody>\n",
              "    <tr>\n",
              "      <th>85</th>\n",
              "      <td>chr9</td>\n",
              "      <td>106056124</td>\n",
              "      <td>N</td>\n",
              "      <td>31</td>\n",
              "      <td>&lt;&lt;&lt;&lt;&lt;&lt;&lt;&lt;&lt;AAAAAAAAAAAAAAAAAAAAAA</td>\n",
              "      <td>BHEIG?DIIIIHIGGIGGGIG:9DDBIEGFH</td>\n",
              "    </tr>\n",
              "    <tr>\n",
              "      <th>86</th>\n",
              "      <td>chr9</td>\n",
              "      <td>106056125</td>\n",
              "      <td>N</td>\n",
              "      <td>31</td>\n",
              "      <td>&lt;&lt;&lt;&lt;&lt;&lt;&lt;&lt;&lt;GGGGGGGGGGGGGGGGGGGGGG</td>\n",
              "      <td>BHEIG?DIIIIIIGGE@GFIGD;GIGIIFHD</td>\n",
              "    </tr>\n",
              "    <tr>\n",
              "      <th>87</th>\n",
              "      <td>chr9</td>\n",
              "      <td>106056126</td>\n",
              "      <td>N</td>\n",
              "      <td>30</td>\n",
              "      <td>&lt;&lt;&lt;&lt;&lt;&lt;&lt;&lt;&lt;GGGGGGGGGGGGGGGGGGGGG</td>\n",
              "      <td>BHEIG?DIIIIGHGHIGHI&gt;G;GGGIGIHG</td>\n",
              "    </tr>\n",
              "  </tbody>\n",
              "</table>\n",
              "</div>\n",
              "      <button class=\"colab-df-convert\" onclick=\"convertToInteractive('df-5992d9d9-9361-4306-ba53-8cc1b9899cbc')\"\n",
              "              title=\"Convert this dataframe to an interactive table.\"\n",
              "              style=\"display:none;\">\n",
              "        \n",
              "  <svg xmlns=\"http://www.w3.org/2000/svg\" height=\"24px\"viewBox=\"0 0 24 24\"\n",
              "       width=\"24px\">\n",
              "    <path d=\"M0 0h24v24H0V0z\" fill=\"none\"/>\n",
              "    <path d=\"M18.56 5.44l.94 2.06.94-2.06 2.06-.94-2.06-.94-.94-2.06-.94 2.06-2.06.94zm-11 1L8.5 8.5l.94-2.06 2.06-.94-2.06-.94L8.5 2.5l-.94 2.06-2.06.94zm10 10l.94 2.06.94-2.06 2.06-.94-2.06-.94-.94-2.06-.94 2.06-2.06.94z\"/><path d=\"M17.41 7.96l-1.37-1.37c-.4-.4-.92-.59-1.43-.59-.52 0-1.04.2-1.43.59L10.3 9.45l-7.72 7.72c-.78.78-.78 2.05 0 2.83L4 21.41c.39.39.9.59 1.41.59.51 0 1.02-.2 1.41-.59l7.78-7.78 2.81-2.81c.8-.78.8-2.07 0-2.86zM5.41 20L4 18.59l7.72-7.72 1.47 1.35L5.41 20z\"/>\n",
              "  </svg>\n",
              "      </button>\n",
              "      \n",
              "  <style>\n",
              "    .colab-df-container {\n",
              "      display:flex;\n",
              "      flex-wrap:wrap;\n",
              "      gap: 12px;\n",
              "    }\n",
              "\n",
              "    .colab-df-convert {\n",
              "      background-color: #E8F0FE;\n",
              "      border: none;\n",
              "      border-radius: 50%;\n",
              "      cursor: pointer;\n",
              "      display: none;\n",
              "      fill: #1967D2;\n",
              "      height: 32px;\n",
              "      padding: 0 0 0 0;\n",
              "      width: 32px;\n",
              "    }\n",
              "\n",
              "    .colab-df-convert:hover {\n",
              "      background-color: #E2EBFA;\n",
              "      box-shadow: 0px 1px 2px rgba(60, 64, 67, 0.3), 0px 1px 3px 1px rgba(60, 64, 67, 0.15);\n",
              "      fill: #174EA6;\n",
              "    }\n",
              "\n",
              "    [theme=dark] .colab-df-convert {\n",
              "      background-color: #3B4455;\n",
              "      fill: #D2E3FC;\n",
              "    }\n",
              "\n",
              "    [theme=dark] .colab-df-convert:hover {\n",
              "      background-color: #434B5C;\n",
              "      box-shadow: 0px 1px 3px 1px rgba(0, 0, 0, 0.15);\n",
              "      filter: drop-shadow(0px 1px 2px rgba(0, 0, 0, 0.3));\n",
              "      fill: #FFFFFF;\n",
              "    }\n",
              "  </style>\n",
              "\n",
              "      <script>\n",
              "        const buttonEl =\n",
              "          document.querySelector('#df-5992d9d9-9361-4306-ba53-8cc1b9899cbc button.colab-df-convert');\n",
              "        buttonEl.style.display =\n",
              "          google.colab.kernel.accessAllowed ? 'block' : 'none';\n",
              "\n",
              "        async function convertToInteractive(key) {\n",
              "          const element = document.querySelector('#df-5992d9d9-9361-4306-ba53-8cc1b9899cbc');\n",
              "          const dataTable =\n",
              "            await google.colab.kernel.invokeFunction('convertToInteractive',\n",
              "                                                     [key], {});\n",
              "          if (!dataTable) return;\n",
              "\n",
              "          const docLinkHtml = 'Like what you see? Visit the ' +\n",
              "            '<a target=\"_blank\" href=https://colab.research.google.com/notebooks/data_table.ipynb>data table notebook</a>'\n",
              "            + ' to learn more about interactive tables.';\n",
              "          element.innerHTML = '';\n",
              "          dataTable['output_type'] = 'display_data';\n",
              "          await google.colab.output.renderOutput(dataTable, element);\n",
              "          const docLink = document.createElement('div');\n",
              "          docLink.innerHTML = docLinkHtml;\n",
              "          element.appendChild(docLink);\n",
              "        }\n",
              "      </script>\n",
              "    </div>\n",
              "  </div>\n",
              "  "
            ]
          },
          "metadata": {},
          "execution_count": 54
        }
      ]
    },
    {
      "cell_type": "code",
      "source": [
        "max(pileup['pos']),max(pileup['pos'])-min(pileup['pos'])"
      ],
      "metadata": {
        "colab": {
          "base_uri": "https://localhost:8080/"
        },
        "id": "hcJQKwNCvKt6",
        "outputId": "2bd772e1-7187-42f5-9a0f-94c28f954c01"
      },
      "execution_count": 55,
      "outputs": [
        {
          "output_type": "execute_result",
          "data": {
            "text/plain": [
              "(106056126, 87)"
            ]
          },
          "metadata": {},
          "execution_count": 55
        }
      ]
    },
    {
      "cell_type": "code",
      "source": [
        "toremove = re.compile('[<>$*#^]')\n",
        "pileup['matches'] = pileup['basereads'].apply(lambda x: toremove.sub('', x))\n",
        "pileup[['chrom', 'pos', 'matches']]"
      ],
      "metadata": {
        "colab": {
          "base_uri": "https://localhost:8080/",
          "height": 423
        },
        "id": "XFeHIUVmvas8",
        "outputId": "7f5912f1-1e2a-4e82-eb88-9091d2dbc630"
      },
      "execution_count": 59,
      "outputs": [
        {
          "output_type": "execute_result",
          "data": {
            "text/plain": [
              "   chrom        pos                                            matches\n",
              "0   chr9  106056039                                                   \n",
              "1   chr9  106056040                                                   \n",
              "2   chr9  106056041                                                   \n",
              "3   chr9  106056042                                                   \n",
              "4   chr9  106056043                                                   \n",
              "..   ...        ...                                                ...\n",
              "83  chr9  106056122  CCCCCCCCCCCCCCCCCCCCCCCCCCCCCCCCCCCCCCCCCCCCCC...\n",
              "84  chr9  106056123                             CCCCCCCCCCCCCCCCCCCCCC\n",
              "85  chr9  106056124                             AAAAAAAAAAAAAAAAAAAAAA\n",
              "86  chr9  106056125                             GGGGGGGGGGGGGGGGGGGGGG\n",
              "87  chr9  106056126                              GGGGGGGGGGGGGGGGGGGGG\n",
              "\n",
              "[88 rows x 3 columns]"
            ],
            "text/html": [
              "\n",
              "  <div id=\"df-c1f5546b-a5e6-4aa8-8032-330fb69a21f5\">\n",
              "    <div class=\"colab-df-container\">\n",
              "      <div>\n",
              "<style scoped>\n",
              "    .dataframe tbody tr th:only-of-type {\n",
              "        vertical-align: middle;\n",
              "    }\n",
              "\n",
              "    .dataframe tbody tr th {\n",
              "        vertical-align: top;\n",
              "    }\n",
              "\n",
              "    .dataframe thead th {\n",
              "        text-align: right;\n",
              "    }\n",
              "</style>\n",
              "<table border=\"1\" class=\"dataframe\">\n",
              "  <thead>\n",
              "    <tr style=\"text-align: right;\">\n",
              "      <th></th>\n",
              "      <th>chrom</th>\n",
              "      <th>pos</th>\n",
              "      <th>matches</th>\n",
              "    </tr>\n",
              "  </thead>\n",
              "  <tbody>\n",
              "    <tr>\n",
              "      <th>0</th>\n",
              "      <td>chr9</td>\n",
              "      <td>106056039</td>\n",
              "      <td></td>\n",
              "    </tr>\n",
              "    <tr>\n",
              "      <th>1</th>\n",
              "      <td>chr9</td>\n",
              "      <td>106056040</td>\n",
              "      <td></td>\n",
              "    </tr>\n",
              "    <tr>\n",
              "      <th>2</th>\n",
              "      <td>chr9</td>\n",
              "      <td>106056041</td>\n",
              "      <td></td>\n",
              "    </tr>\n",
              "    <tr>\n",
              "      <th>3</th>\n",
              "      <td>chr9</td>\n",
              "      <td>106056042</td>\n",
              "      <td></td>\n",
              "    </tr>\n",
              "    <tr>\n",
              "      <th>4</th>\n",
              "      <td>chr9</td>\n",
              "      <td>106056043</td>\n",
              "      <td></td>\n",
              "    </tr>\n",
              "    <tr>\n",
              "      <th>...</th>\n",
              "      <td>...</td>\n",
              "      <td>...</td>\n",
              "      <td>...</td>\n",
              "    </tr>\n",
              "    <tr>\n",
              "      <th>83</th>\n",
              "      <td>chr9</td>\n",
              "      <td>106056122</td>\n",
              "      <td>CCCCCCCCCCCCCCCCCCCCCCCCCCCCCCCCCCCCCCCCCCCCCC...</td>\n",
              "    </tr>\n",
              "    <tr>\n",
              "      <th>84</th>\n",
              "      <td>chr9</td>\n",
              "      <td>106056123</td>\n",
              "      <td>CCCCCCCCCCCCCCCCCCCCCC</td>\n",
              "    </tr>\n",
              "    <tr>\n",
              "      <th>85</th>\n",
              "      <td>chr9</td>\n",
              "      <td>106056124</td>\n",
              "      <td>AAAAAAAAAAAAAAAAAAAAAA</td>\n",
              "    </tr>\n",
              "    <tr>\n",
              "      <th>86</th>\n",
              "      <td>chr9</td>\n",
              "      <td>106056125</td>\n",
              "      <td>GGGGGGGGGGGGGGGGGGGGGG</td>\n",
              "    </tr>\n",
              "    <tr>\n",
              "      <th>87</th>\n",
              "      <td>chr9</td>\n",
              "      <td>106056126</td>\n",
              "      <td>GGGGGGGGGGGGGGGGGGGGG</td>\n",
              "    </tr>\n",
              "  </tbody>\n",
              "</table>\n",
              "<p>88 rows × 3 columns</p>\n",
              "</div>\n",
              "      <button class=\"colab-df-convert\" onclick=\"convertToInteractive('df-c1f5546b-a5e6-4aa8-8032-330fb69a21f5')\"\n",
              "              title=\"Convert this dataframe to an interactive table.\"\n",
              "              style=\"display:none;\">\n",
              "        \n",
              "  <svg xmlns=\"http://www.w3.org/2000/svg\" height=\"24px\"viewBox=\"0 0 24 24\"\n",
              "       width=\"24px\">\n",
              "    <path d=\"M0 0h24v24H0V0z\" fill=\"none\"/>\n",
              "    <path d=\"M18.56 5.44l.94 2.06.94-2.06 2.06-.94-2.06-.94-.94-2.06-.94 2.06-2.06.94zm-11 1L8.5 8.5l.94-2.06 2.06-.94-2.06-.94L8.5 2.5l-.94 2.06-2.06.94zm10 10l.94 2.06.94-2.06 2.06-.94-2.06-.94-.94-2.06-.94 2.06-2.06.94z\"/><path d=\"M17.41 7.96l-1.37-1.37c-.4-.4-.92-.59-1.43-.59-.52 0-1.04.2-1.43.59L10.3 9.45l-7.72 7.72c-.78.78-.78 2.05 0 2.83L4 21.41c.39.39.9.59 1.41.59.51 0 1.02-.2 1.41-.59l7.78-7.78 2.81-2.81c.8-.78.8-2.07 0-2.86zM5.41 20L4 18.59l7.72-7.72 1.47 1.35L5.41 20z\"/>\n",
              "  </svg>\n",
              "      </button>\n",
              "      \n",
              "  <style>\n",
              "    .colab-df-container {\n",
              "      display:flex;\n",
              "      flex-wrap:wrap;\n",
              "      gap: 12px;\n",
              "    }\n",
              "\n",
              "    .colab-df-convert {\n",
              "      background-color: #E8F0FE;\n",
              "      border: none;\n",
              "      border-radius: 50%;\n",
              "      cursor: pointer;\n",
              "      display: none;\n",
              "      fill: #1967D2;\n",
              "      height: 32px;\n",
              "      padding: 0 0 0 0;\n",
              "      width: 32px;\n",
              "    }\n",
              "\n",
              "    .colab-df-convert:hover {\n",
              "      background-color: #E2EBFA;\n",
              "      box-shadow: 0px 1px 2px rgba(60, 64, 67, 0.3), 0px 1px 3px 1px rgba(60, 64, 67, 0.15);\n",
              "      fill: #174EA6;\n",
              "    }\n",
              "\n",
              "    [theme=dark] .colab-df-convert {\n",
              "      background-color: #3B4455;\n",
              "      fill: #D2E3FC;\n",
              "    }\n",
              "\n",
              "    [theme=dark] .colab-df-convert:hover {\n",
              "      background-color: #434B5C;\n",
              "      box-shadow: 0px 1px 3px 1px rgba(0, 0, 0, 0.15);\n",
              "      filter: drop-shadow(0px 1px 2px rgba(0, 0, 0, 0.3));\n",
              "      fill: #FFFFFF;\n",
              "    }\n",
              "  </style>\n",
              "\n",
              "      <script>\n",
              "        const buttonEl =\n",
              "          document.querySelector('#df-c1f5546b-a5e6-4aa8-8032-330fb69a21f5 button.colab-df-convert');\n",
              "        buttonEl.style.display =\n",
              "          google.colab.kernel.accessAllowed ? 'block' : 'none';\n",
              "\n",
              "        async function convertToInteractive(key) {\n",
              "          const element = document.querySelector('#df-c1f5546b-a5e6-4aa8-8032-330fb69a21f5');\n",
              "          const dataTable =\n",
              "            await google.colab.kernel.invokeFunction('convertToInteractive',\n",
              "                                                     [key], {});\n",
              "          if (!dataTable) return;\n",
              "\n",
              "          const docLinkHtml = 'Like what you see? Visit the ' +\n",
              "            '<a target=\"_blank\" href=https://colab.research.google.com/notebooks/data_table.ipynb>data table notebook</a>'\n",
              "            + ' to learn more about interactive tables.';\n",
              "          element.innerHTML = '';\n",
              "          dataTable['output_type'] = 'display_data';\n",
              "          await google.colab.output.renderOutput(dataTable, element);\n",
              "          const docLink = document.createElement('div');\n",
              "          docLink.innerHTML = docLinkHtml;\n",
              "          element.appendChild(docLink);\n",
              "        }\n",
              "      </script>\n",
              "    </div>\n",
              "  </div>\n",
              "  "
            ]
          },
          "metadata": {},
          "execution_count": 59
        }
      ]
    },
    {
      "cell_type": "code",
      "source": [
        "pileup[pileup['pos'] == 106056094].iloc[0]['matches']"
      ],
      "metadata": {
        "colab": {
          "base_uri": "https://localhost:8080/",
          "height": 36
        },
        "id": "LLkDLFF4voKa",
        "outputId": "d38a013f-84de-4419-8fda-b0dc396cf415"
      },
      "execution_count": 58,
      "outputs": [
        {
          "output_type": "execute_result",
          "data": {
            "text/plain": [
              "'GGGGGGAAAAAAAAGGGGGAAAAAAGCCGCAGGATGAGGTGATAAGGGAGGGGTGAAGGGCGGTGAAGGGGAAAAGAGAAAGAAAAATAAAGGGGGAGTGGGAGGAAGAAGAGAATA'"
            ],
            "application/vnd.google.colaboratory.intrinsic+json": {
              "type": "string"
            }
          },
          "metadata": {},
          "execution_count": 58
        }
      ]
    },
    {
      "cell_type": "markdown",
      "source": [
        "**6) Make Shannon entrophy table**"
      ],
      "metadata": {
        "id": "oj5Dwcnuv1kh"
      }
    },
    {
      "cell_type": "code",
      "source": [
        "len(np.unique(pileup['pos']))"
      ],
      "metadata": {
        "colab": {
          "base_uri": "https://localhost:8080/"
        },
        "id": "Ng2nhOPOv0z1",
        "outputId": "b4a61097-0177-44d0-c977-634434094116"
      },
      "execution_count": 60,
      "outputs": [
        {
          "output_type": "execute_result",
          "data": {
            "text/plain": [
              "88"
            ]
          },
          "metadata": {},
          "execution_count": 60
        }
      ]
    },
    {
      "cell_type": "code",
      "source": [
        "Counter(pileup['matches'])"
      ],
      "metadata": {
        "colab": {
          "base_uri": "https://localhost:8080/"
        },
        "id": "YRz4bEVLwHfs",
        "outputId": "b207bfc8-1a98-451a-8dc2-74c8edf19939"
      },
      "execution_count": 62,
      "outputs": [
        {
          "output_type": "execute_result",
          "data": {
            "text/plain": [
              "Counter({'': 6,\n",
              "         'HTDTITGTHTHTITGTITHTHTITITHTHTGTHTGTHTHTHTITGT': 1,\n",
              "         'GGGGGGGGGGGGGGGGGGGGGGG': 10,\n",
              "         'AAAAAAAAAAAAAAAAAAAAAAA': 5,\n",
              "         'TTTTTTTTTTTTTTTTTTTTTT': 2,\n",
              "         'TTTTTTTTTTTTTTTTTTTTTTT': 7,\n",
              "         'CCCCCCCCCCCCCCCCCCCCCCC': 1,\n",
              "         'AAAAAAACAAAAAAAAAAAAAAA': 1,\n",
              "         'GGGGGGGGGGGGGGGGGGGGGGGHGHGHGIGIGHGGGHG': 1,\n",
              "         'TTTTTTTTTTTTTTTTTTTTTTTTTTTTTTT': 2,\n",
              "         'CCCCCCCCCCCCCCCCCCCCCCCCCCCCCCC': 1,\n",
              "         'AAAAAAAAAAAAAAAAAAAAAAAAAAAAAAAIAIAIAHAIA': 1,\n",
              "         'TTTTTTTTTTTTTTTTTTTTTTTTTTTTTTTTTTTT': 2,\n",
              "         'GGGGGGGGGGGGGGGGGGGGGGGGGGGGGGGGGGGG': 1,\n",
              "         'AAAAAAAAAAAAAAAAAAAAAAAAAAAAAAAAAAAA': 2,\n",
              "         'CCCCCCCCCCCCCCCCCCCCCCCCCCCCCCCCCCCC': 2,\n",
              "         'AAAAAAAAAAAAAAAAAAAAAAAAAAAAAIAIAIAIAHA': 1,\n",
              "         'CCCCCCCCCCCCCCCCCCCCCCCCCCCCCCCCCC': 3,\n",
              "         'GGGGGGGGGGGGGGGGGGGGGGGGGGGGGGGGGG': 2,\n",
              "         'TTTTTTTTTTTTTTTTTTTTTTTT': 1,\n",
              "         'AAAAAAAAAAAAAAAAAAAAAAAAAGAGAHAGADAHAGAHAIAIAIAIAIAIAIAIAIAHAIAIAHAHABAIAIAHAGAGAHAHAIADAHAGAHAIAIAHAIAIAHAHAGAIAIA': 1,\n",
              "         'CCCCCCCCCCCCCCCCCCCCCCCCCCCCCCCCCCCCCCCCCCCCCCCCCCCCCCCCCCCCCCCCCCCCCC': 1,\n",
              "         'AAAAAAAAAAAAAAAAAAAAAAAAAAAAAAAAAAAAAAAAAAAAAAAAAAAAAAAAAAAAAAAAAAAAAAHAIAHAIAGAHAIAGAHAGABAHADAGAIAHAHAHAIAIAHAIAGAIAGAIAIAGAHAIAIAHAHAIAGAHAGADADAHAGAGAIAGADAGAGA': 1,\n",
              "         'GGGGGGAAAAAAAAGGGGGAAAAAAGCCGCAGGATGAGGTGATAAGGGAGGGGTGAAGGGCGGTGAAGGGGAAAAGAGAAAGAAAAATAAAGGGGGAGTGGGAGGAAGAAGAGAATA': 1,\n",
              "         'GGGGGGGGGGGGGGGGGGGGGGGGGGGGGGGGGGGGGGGGGGGGGCGCGGGGGGGGGCGGGGGGCGGCGGCGGGGGGGGGGGGGGGGGGGGGGGGGGGGCGGGGGGGGGGGGGGGGDGIGHGIGIGHGIGIGIGIGIGHGHGHGDG': 1,\n",
              "         'AAAAAAAAAAAAAAAAAAAAAAAAAAAAAAAAAAAAAAAAAAAAAAAAAAAAAAAAAAAAAAAAAAAAAAAAAAAAAAAAAAAAAAAAAAAAAAAAAAAAAAAAAAAAAAAAAAAAAAAAAAAAAAAAAAAAAHAIAHA': 1,\n",
              "         'GGGGGGGGGGGGGGGGGGGGGGGGGGGGGGGGGGGGGGGGGGGGGGGGGGGGGGGGGGGGGGGGGGGGGGGGGGGGGGGGGGGGGGGGGGGGGGGGGGGGGGGGGGGGGGGGGGGGGGGGGGGGGGGGGGGGGGG': 1,\n",
              "         'AAAAAAAAAAAAAAAAAAAAAAAAAAAAAAAAAAAAAAAAAAAAAAAAAAAAAAAAAAAAAAAAAAAAAAAAAAAAAAAAAAAAAAAAAAAAAAAAAAAAAAAAAAAAAAAAAAAAAAAAAAAAAAAAAAAAAAAA': 1,\n",
              "         'TTTTTTTTTTTTTTTTTTTTTTTTTTTTTTTTTTTTTTTTTTTTTTTTTTTTTTTTTTTTTTTTTTTTTTTTTTTTTTTTTTTTTTTTTTTTTTTTTTTTTTTTTTTTTTTTTTTTTTTTTTTTTTTTTTTTTTTT': 1,\n",
              "         'AAAAAAAAAAAAAAAAAAAAAAAAAAAAAAAAAAAAAAAAAAAAAAAAAAAAAAAAAAAAAAAAAAAAAAAAAAAAAAAAAAAAAAAAAAAAAAAAAAAAAAAAAAAAAAAAAAAAAAAAAAAAAAAAAGA': 1,\n",
              "         'AAAAAAAAAAAAAAAAAAAAAAAAAAAAAAAAAAAAAAAAAAAAAAAAAAAAAAAAAAAAAAAAAAAAAAAAAAAAAAAAAAAAAAAAAAAAAAAAAAAAAAAAAAAAAAAAAAAAAAAAAAAAAAAAAA': 2,\n",
              "         'CCCCCCCCCCCCCCCCCCCCCCCCCCCCCCCCCCCCCCCCCCCCCCCCCCCCCCCCCCCCCCCCCCCCCCCCCCCCCCCCCCCCCCCCCCCCCCCCCCCCCCCCCCCCCCCCCCCCCCCCCCCCCCCCCC': 5,\n",
              "         'TTTTTTTTTTTTTTTTTTTTTTTTTTTTTTTTTTTTTTTTTTTTTTTTTTTTTTTTTTTTTTTTTTTTTTTTTTTTTTTTTTTTTTTTTTTTTTTTTTTTTTTTTTTTTTTTTTTTTTTTTTTTTTTTTT': 1,\n",
              "         'GGGGGGGGGGGGGGGGGGGGGGGGGGGGGGGGGGGGGGGGGGGGGGGGGGGGGGGGGGGGGGGGGGGGGGGGGGGGGGGGGGGGGGGGGGGGGGGGGGGGGGGGGGGGGGGGGGGGGGGGGGGGGGGGGG': 2,\n",
              "         'TTTTTTTTTTTTTTTTTTTTTTTTTTTTTTTTTTTTTTTTTTTTTTTTTTTTTTTTTTTTTTTTTTTTTTTTTTTTTTTTTTTTTTTTTTTTTTTTTTTTTTTTTTTTTTTTTTTTTTTTTTTTTTTTT': 2,\n",
              "         'AAAAAAAAAAAAAAAAAAAAAAAAAAAAAAAAAAAAAAAAAAAAAAAAAAAAAAAAAAAAAAAAAAAAAAAAAAAAAAAAAAAAAAAAAAAAAAAAAAAAAAAAAAAAAAAAAAAAAAAAAAAAAAAAA': 2,\n",
              "         'CCCCCCCCCCCCCCCCCCCCCCCCCCCCCCCCCCCCCCCCCCCCCCCCCCCCCCCCCCCCCCCCCCCCCCCCCCCCCCCCCCCCCCCCCCCCCCCCCCCCCCCCCCCCCCCCCCCCCCCCCCCCCCCCC': 2,\n",
              "         'GGGGGGGGGGGGGGGGGGGGGGGGGGGGGGGGGGGGGGGGGGGGGGGGGGGGGGGGGGGGGGGGGGGGGGGGGGGGGGGGGGGGGGGGGGGGGGGGGGGGGGGGGGGGGGGGGGGGGGGGGGGGGGG': 1,\n",
              "         'GGGGGGGGGGGGGGGGGGGGGGGGGGGGGGGGGGGGGGGGGGGGGGGGGGGGGGGGGGGGGGGGGGGGGGGGGGGGGGGGGGGGGGGGGGGGGGGGGGGGGGGGGGCGGGGGGGGGGGGGGGGGGG': 1,\n",
              "         'TCTTTTTTTTTTTTTTTTTTTTTTTTTTTTTTTTTTTTTTTTTTTTTTTTTTTTTTTTTTTTTTTTTTTTTTTTTTTTTTTTTTTTTTTTTTTTTTTTTTTTTTTTTTTTTTTTTTTTTTTTTTTTTTT': 1,\n",
              "         'TTTTTTTTTTTTTTTTTTTTTTTTTTTTTTTTTTTTTTTTTTTTTTTTTTTTTTTTTTTTTTTTTTTTTTTTTTTTTTTTTTTTTTTTTTTTTTTTTTTTTTTTTTTTTTTTTTTTTTTTTTTT': 1,\n",
              "         'GGGGGGGGGGGGGGGGGGGGGGGGGGGGGGGGGGGGGGGGGGGGGGGGGGGGGGGGGGGGGGGGGGGGGGGGGGGGGGGGGGGGGGGGGGGGGGGGGGGGGGGGGGGGG': 1,\n",
              "         'CCCCCCCCCCCCCCCCCCCCCCCCCCCCCCCCCCCCCCCCCCCCCCCCCCCCCCCCCCCCCCCCCCCCCCCCCCCCCCC': 1,\n",
              "         'CCCCCCCCCCCCCCCCCCCCCC': 1,\n",
              "         'AAAAAAAAAAAAAAAAAAAAAA': 1,\n",
              "         'GGGGGGGGGGGGGGGGGGGGGG': 1,\n",
              "         'GGGGGGGGGGGGGGGGGGGGG': 1})"
            ]
          },
          "metadata": {},
          "execution_count": 62
        }
      ]
    },
    {
      "cell_type": "code",
      "source": [
        "pileup['base_count'] = pileup['matches'].apply(lambda x: len([c for c in x if c in ['A', 'T', 'G', 'C']]))\n",
        "np.unique(pileup['base_count'])"
      ],
      "metadata": {
        "colab": {
          "base_uri": "https://localhost:8080/"
        },
        "id": "9Irf6_7gwRDC",
        "outputId": "a42e154b-eebc-4a51-f99f-31c31a578a28"
      },
      "execution_count": 65,
      "outputs": [
        {
          "output_type": "execute_result",
          "data": {
            "text/plain": [
              "array([  0,  21,  22,  23,  24,  28,  31,  32,  34,  36,  70,  78,  79,\n",
              "       109, 117, 124, 126, 127, 129, 130, 131, 135, 136])"
            ]
          },
          "metadata": {},
          "execution_count": 65
        }
      ]
    },
    {
      "cell_type": "code",
      "source": [],
      "metadata": {
        "id": "ep5RwwbCwl9o"
      },
      "execution_count": null,
      "outputs": []
    }
  ]
}