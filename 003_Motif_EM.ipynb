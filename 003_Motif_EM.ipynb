{
  "cells": [
    {
      "cell_type": "markdown",
      "metadata": {
        "id": "view-in-github",
        "colab_type": "text"
      },
      "source": [
        "<a href=\"https://colab.research.google.com/github/WoobeenJeong/Bioinfomatics_Practice_RNAseq/blob/main/003_Motif_EM.ipynb\" target=\"_parent\"><img src=\"https://colab.research.google.com/assets/colab-badge.svg\" alt=\"Open In Colab\"/></a>"
      ]
    },
    {
      "cell_type": "markdown",
      "metadata": {
        "id": "DeBEwjbqhpTa"
      },
      "source": [
        "# Motif Finding by Expectation-Maximization\n",
        "\n",
        "EM algorithm으로 motif를 찾아본다.\n",
        "\n",
        "생물정보학 및 실습 1, 2023년 1학기"
      ]
    },
    {
      "cell_type": "code",
      "execution_count": null,
      "metadata": {
        "id": "m5essJZQhpTd",
        "colab": {
          "base_uri": "https://localhost:8080/"
        },
        "outputId": "d6b892c1-1488-44bd-de9d-e7397ae9f4e2"
      },
      "outputs": [
        {
          "output_type": "execute_result",
          "data": {
            "text/plain": [
              "['CGCCCCTCTCGGGGGTGTTCAG',\n",
              " 'TGTGTAAGTGCCAAGGTGCCAG',\n",
              " 'ACCGAAAGAAGTATACAGGCGT',\n",
              " 'TTCAGGTGCACGTCGGTGAACC',\n",
              " 'CTCCACGTGCAATGTTGGCCTA']"
            ]
          },
          "metadata": {},
          "execution_count": 2
        }
      ],
      "source": [
        "seqs = \"\"\"\n",
        "CGCCCCTCTCGGGGGTGTTCAG\n",
        "TGTGTAAGTGCCAAGGTGCCAG\n",
        "ACCGAAAGAAGTATACAGGCGT\n",
        "TTCAGGTGCACGTCGGTGAACC\n",
        "CTCCACGTGCAATGTTGGCCTA\"\"\".split()\n",
        "seqs"
      ]
    },
    {
      "cell_type": "code",
      "execution_count": null,
      "metadata": {
        "id": "V9tNuCNshpTe"
      },
      "outputs": [],
      "source": [
        "import numpy as np\n",
        "np.set_printoptions(edgeitems=30, linewidth=100000)"
      ]
    },
    {
      "cell_type": "markdown",
      "metadata": {
        "id": "w4JItI85hpTe"
      },
      "source": [
        "기본 파라미터 세팅"
      ]
    },
    {
      "cell_type": "code",
      "execution_count": null,
      "metadata": {
        "id": "TV2do9rdhpTf"
      },
      "outputs": [],
      "source": [
        "W = 8 # motif width\n",
        "ALPHABET = 'ACGT'\n",
        "N = len(ALPHABET)\n",
        "L = len(seqs[0]) # length of each sequence\n",
        "pseudocount = 1\n",
        "\n",
        "ALPHABETenum = dict(zip(ALPHABET, range(N)))"
      ]
    },
    {
      "cell_type": "markdown",
      "metadata": {
        "id": "8k45ori8hpTf"
      },
      "source": [
        "다루기 쉽게 seqs를 숫자 배열로 변환함 (A->0, C->1, G->2, T->3)"
      ]
    },
    {
      "cell_type": "code",
      "execution_count": null,
      "metadata": {
        "id": "g7sfMwuqhpTf",
        "colab": {
          "base_uri": "https://localhost:8080/"
        },
        "outputId": "3a69686e-4fd7-456d-b07c-e5e7a1cf1a6d"
      },
      "outputs": [
        {
          "output_type": "execute_result",
          "data": {
            "text/plain": [
              "array([[1, 2, 1, 1, 1, 1, 3, 1, 3, 1, 2, 2, 2, 2, 2, 3, 2, 3, 3, 1, 0, 2],\n",
              "       [3, 2, 3, 2, 3, 0, 0, 2, 3, 2, 1, 1, 0, 0, 2, 2, 3, 2, 1, 1, 0, 2],\n",
              "       [0, 1, 1, 2, 0, 0, 0, 2, 0, 0, 2, 3, 0, 3, 0, 1, 0, 2, 2, 1, 2, 3],\n",
              "       [3, 3, 1, 0, 2, 2, 3, 2, 1, 0, 1, 2, 3, 1, 2, 2, 3, 2, 0, 0, 1, 1],\n",
              "       [1, 3, 1, 1, 0, 1, 2, 3, 2, 1, 0, 0, 3, 2, 3, 3, 2, 2, 1, 1, 3, 0]])"
            ]
          },
          "metadata": {},
          "execution_count": 5
        }
      ],
      "source": [
        "X = np.array([[ALPHABETenum[c] for c in s] for s in seqs])\n",
        "X"
      ]
    },
    {
      "cell_type": "markdown",
      "metadata": {
        "id": "wjIxuYyxhpTg"
      },
      "source": [
        "미리 전체 알파벳 빈도 계산하고 백그라운드 벡터 B 계산"
      ]
    },
    {
      "cell_type": "code",
      "execution_count": null,
      "metadata": {
        "id": "CzQa-FFShpTg",
        "colab": {
          "base_uri": "https://localhost:8080/"
        },
        "outputId": "ac92010d-33bd-4766-a46d-c63f8fbcf517"
      },
      "outputs": [
        {
          "output_type": "execute_result",
          "data": {
            "text/plain": [
              "(array([23, 29, 34, 24]),\n",
              " array([0.21052632, 0.26315789, 0.30701754, 0.21929825]))"
            ]
          },
          "metadata": {},
          "execution_count": 14
        }
      ],
      "source": [
        "nc = np.array([(X == i).sum() for i in range(N)])\n",
        "B = (nc + pseudocount) / (nc + pseudocount).sum()\n",
        "nc, B"
      ]
    },
    {
      "cell_type": "markdown",
      "metadata": {
        "id": "_g_mhxpihpTg"
      },
      "source": [
        "시작 profile을 맨 앞 부분 길이가 W인 문자열로 초기화함"
      ]
    },
    {
      "cell_type": "code",
      "execution_count": null,
      "metadata": {
        "id": "dI12LG4shpTh"
      },
      "outputs": [],
      "source": [
        "import numpy as np\n",
        "\n",
        "M = np.zeros([N, W])\n",
        "\n",
        "for j in range(W):  # for each column of motif\n",
        "    for c in range(N):  # for each character in the alphabet\n",
        "        M[c, j] = np.mean(X[:, j] == 1)"
      ]
    },
    {
      "cell_type": "markdown",
      "metadata": {
        "id": "hdv0ve0yhpTh"
      },
      "source": [
        "### E-step"
      ]
    },
    {
      "cell_type": "markdown",
      "metadata": {
        "id": "WyzL4S8ThpTh"
      },
      "source": [
        "Z matrix 계산\n",
        "\n",
        "$Z_{ij}^{(t)} = \\frac {\\Pr(X_i | Z_{ij}=1,M^{(t)})} {\\sum _{k=1} ^{L-W+1} { \\Pr(X_i | Z_{ik}=1,M^{(t)})}}$"
      ]
    },
    {
      "cell_type": "code",
      "execution_count": null,
      "metadata": {
        "id": "xHi1LpbvhpTh",
        "colab": {
          "base_uri": "https://localhost:8080/"
        },
        "outputId": "2a45fdac-26f3-4d2a-c835-d0d21722083b"
      },
      "outputs": [
        {
          "output_type": "stream",
          "name": "stdout",
          "text": [
            "z[0,0] = 0.15283 * 0.232702 * 0.438515 * 0.200131 * 0.245504 * 0.113657 * 0.441801 * 0.122526 * 0.193605 * 0.294888 * 0.271214 * 0.271214 * 0.271214 * 0.271214 * 0.271214 * 0.193605 * 0.271214 * 0.193605 * 0.193605 * 0.294888 * 0.240293 * 0.271214 = 1.4939e-14\n",
            "z[0,1] = 0.294888 * 0.116934 * 0.316164 * 0.438515 * 0.200131 * 0.245504 * 0.117216 * 0.208264 * 0.122005 * 0.294888 * 0.271214 * 0.271214 * 0.271214 * 0.271214 * 0.271214 * 0.193605 * 0.271214 * 0.193605 * 0.193605 * 0.294888 * 0.240293 * 0.271214 = 1.14508e-14\n",
            "z[0,2] = 0.294888 * 0.271214 * 0.15283 * 0.316164 * 0.438515 * 0.200131 * 0.115841 * 0.113657 * 0.441801 * 0.122526 * 0.271214 * 0.271214 * 0.271214 * 0.271214 * 0.271214 * 0.193605 * 0.271214 * 0.193605 * 0.193605 * 0.294888 * 0.240293 * 0.271214 = 1.34163e-14\n",
            "z[0,3] = 0.294888 * 0.271214 * 0.294888 * 0.15283 * 0.316164 * 0.438515 * 0.12308 * 0.245504 * 0.117216 * 0.208264 * 0.641137 * 0.271214 * 0.271214 * 0.271214 * 0.271214 * 0.193605 * 0.271214 * 0.193605 * 0.193605 * 0.294888 * 0.240293 * 0.271214 = 4.83667e-14\n",
            "z[0,4] = 0.294888 * 0.271214 * 0.294888 * 0.294888 * 0.15283 * 0.316164 * 0.309818 * 0.200131 * 0.115841 * 0.113657 * 0.235975 * 0.641137 * 0.271214 * 0.271214 * 0.271214 * 0.193605 * 0.271214 * 0.193605 * 0.193605 * 0.294888 * 0.240293 * 0.271214 = 3.1319e-14\n",
            "z[1,0] = 0.615912 * 0.232702 * 0.309818 * 0.134795 * 0.115841 * 0.13139 * 0.113961 * 0.641137 * 0.193605 * 0.271214 * 0.294888 * 0.294888 * 0.240293 * 0.240293 * 0.271214 * 0.271214 * 0.193605 * 0.271214 * 0.294888 * 0.294888 * 0.240293 * 0.271214 = 3.84127e-14\n",
            "z[1,1] = 0.193605 * 0.116934 * 0.22913 * 0.125329 * 0.12308 * 0.215468 * 0.13139 * 0.235975 * 0.122005 * 0.271214 * 0.294888 * 0.294888 * 0.240293 * 0.240293 * 0.271214 * 0.271214 * 0.193605 * 0.271214 * 0.294888 * 0.294888 * 0.240293 * 0.271214 = 1.944e-15\n",
            "z[1,2] = 0.193605 * 0.271214 * 0.615912 * 0.232702 * 0.309818 * 0.541995 * 0.215468 * 0.637737 * 0.441801 * 0.641137 * 0.294888 * 0.294888 * 0.240293 * 0.240293 * 0.271214 * 0.271214 * 0.193605 * 0.271214 * 0.294888 * 0.294888 * 0.240293 * 0.271214 = 5.40588e-12\n",
            "z[1,3] = 0.193605 * 0.271214 * 0.193605 * 0.116934 * 0.22913 * 0.126337 * 0.541995 * 0.423188 * 0.117216 * 0.235975 * 0.122526 * 0.294888 * 0.240293 * 0.240293 * 0.271214 * 0.271214 * 0.193605 * 0.271214 * 0.294888 * 0.294888 * 0.240293 * 0.271214 = 9.96939e-15\n",
            "z[1,4] = 0.193605 * 0.271214 * 0.193605 * 0.271214 * 0.615912 * 0.222004 * 0.126337 * 0.134795 * 0.115841 * 0.637737 * 0.208264 * 0.122526 * 0.240293 * 0.240293 * 0.271214 * 0.271214 * 0.193605 * 0.271214 * 0.294888 * 0.294888 * 0.240293 * 0.271214 = 1.52964e-14\n"
          ]
        }
      ],
      "source": [
        "Z = np.zeros([X.shape[0], L-W+1])\n",
        "\n",
        "# 먼저 분자의 Pr(Xi...)를 계산한다.\n",
        "for i in range(X.shape[0]):\n",
        "    for j in range(L-W+1):\n",
        "        # motif 이전 background\n",
        "        pr_beforemotif = B[X[i, :j]]\n",
        "\n",
        "        # motif 내부\n",
        "        subseq = X[i, j:j+W]\n",
        "        pr_motif = np.choose(subseq, M)\n",
        "\n",
        "        # motif 이후 background\n",
        "        pr_aftermotif = B[X[i, j+W:]]\n",
        "\n",
        "        # 모두 곱해서 분모를 계산한다.\n",
        "        probs = np.hstack([pr_beforemotif, pr_motif, pr_aftermotif])\n",
        "        Z[i, j] = np.prod(probs)\n",
        "\n",
        "        # 예시 좀 보여줌\n",
        "        if i < 2 and j < 5:\n",
        "            print(f'z[{i},{j}] =',\n",
        "                ' * '.join(format(v, 'g') for v in probs),\n",
        "                '=', format(Z[i, j], 'g'))"
      ]
    },
    {
      "cell_type": "code",
      "source": [
        "print('== 분모로 나누기 전 Z', '=' * 30)\n",
        "print(Z)\n",
        "\n",
        "# 각 sequence의 likelihood 총합을 계산해서 분모로 써서 나눈다.\n",
        "Z = Z / Z.sum(axis=1)[:, np.newaxis]\n",
        "\n",
        "print('== 분모로 나눈 후 Z', '=' * 30)\n",
        "print(Z)"
      ],
      "metadata": {
        "id": "Lg85GezPjm5m",
        "colab": {
          "base_uri": "https://localhost:8080/"
        },
        "outputId": "0e7017fc-05b3-42e0-e57f-5f87222e9c06"
      },
      "execution_count": null,
      "outputs": [
        {
          "output_type": "stream",
          "name": "stdout",
          "text": [
            "== 분모로 나누기 전 Z ==============================\n",
            "[[1.49389566e-14 1.14507690e-14 1.34163399e-14 4.83667151e-14 3.13189924e-14 2.55453616e-13 3.05859377e-12 3.74302311e-13 1.72424620e-13 2.21163381e-13 4.81504556e-15 1.88079359e-14 1.06506259e-14 3.91872541e-15 4.24052977e-15]\n",
            " [3.84127190e-14 1.94399878e-15 5.40588164e-12 9.96938553e-15 1.52964222e-14 1.25888079e-15 1.13404667e-15 3.93985231e-15 1.34011488e-13 8.64699608e-14 6.29161105e-13 2.06134664e-15 2.01063615e-15 1.16910455e-15 5.10595604e-15]\n",
            " [1.20886108e-14 6.85749277e-15 1.46357583e-14 2.63577136e-14 1.80120956e-15 6.11841777e-14 7.97290666e-15 2.15688960e-15 8.05833121e-16 9.44933526e-15 3.85489745e-15 5.79432815e-13 8.93357838e-15 3.52267880e-12 2.56390970e-15]\n",
            " [1.60887674e-11 1.95929101e-14 3.34661302e-15 9.14772045e-16 1.43932430e-14 1.95192497e-15 1.09384722e-12 1.67452774e-14 1.08047177e-14 1.03533540e-14 6.15260153e-13 9.49362022e-15 1.60084984e-14 1.41366855e-15 2.72476783e-15]\n",
            " [5.86031534e-15 6.03589271e-12 3.38291906e-15 8.35876307e-15 1.01598239e-15 2.40385644e-15 2.11458147e-14 1.36151119e-13 5.54112749e-14 4.07467882e-14 1.30136514e-14 4.20334722e-15 1.49365811e-13 5.42687371e-15 1.50512541e-14]]\n",
            "== 분모로 나눈 후 Z ==============================\n",
            "[[3.52013223e-03 2.69819520e-03 3.16135133e-03 1.13968624e-02 7.37983230e-03 6.01936621e-02 7.20709941e-01 8.81985045e-02 4.06291737e-02 5.21137029e-02 1.13459042e-03 4.43179689e-03 2.50965396e-03 9.23386552e-04 9.99214733e-04]\n",
            " [6.06086625e-03 3.06729565e-04 8.52955127e-01 1.57299753e-03 2.41351229e-03 1.98629732e-04 1.78933056e-04 6.21640918e-04 2.11447074e-02 1.36434723e-02 9.92707989e-02 3.25245038e-04 3.17243796e-04 1.84464586e-04 8.05632026e-04]\n",
            " [2.83718662e-03 1.60944770e-03 3.43499997e-03 6.18613288e-03 4.22742344e-04 1.43598742e-02 1.87123438e-03 5.06220148e-04 1.89128345e-04 2.21775091e-03 9.04741137e-04 1.35992387e-01 2.09670321e-03 8.26769704e-01 6.01747417e-04]\n",
            " [8.98531806e-01 1.09423254e-03 1.86902959e-04 5.10885486e-05 8.03839492e-04 1.09011873e-04 6.10896095e-02 9.35196831e-04 6.03426121e-04 5.78218181e-04 3.43612908e-02 5.30203432e-04 8.94048910e-04 7.89511170e-05 1.52173905e-04]\n",
            " [9.01943524e-04 9.28966109e-01 5.20654906e-04 1.28647211e-03 1.56366796e-04 3.69970320e-04 3.25448879e-03 2.09546095e-02 8.52818281e-03 6.27121573e-03 2.00289197e-03 6.46924539e-04 2.29884431e-02 8.35233824e-04 2.31649329e-03]]\n"
          ]
        }
      ]
    },
    {
      "cell_type": "markdown",
      "metadata": {
        "id": "1CrUipvBhpTh"
      },
      "source": [
        "### M-step\n",
        "\n",
        "`numpy`는 슬라이드 자료와 다르게 세로축을 먼저 쓰기 때문에 파라미터 순서도 k,c 대신 c,k로 바꿈.\n",
        "\n",
        "$M^{(t+1)}(c,k) = \\frac {n_{c,k} + d} {\\sum _c {(n_{c,k} + d)}}$\n",
        "\n",
        "$n_{c,k} = \\sum _i \\sum _{j|X_{i,j+k-1}=c} {Z_{ij}}$"
      ]
    },
    {
      "cell_type": "code",
      "execution_count": null,
      "metadata": {
        "id": "-aJ9_lWThpTi",
        "colab": {
          "base_uri": "https://localhost:8080/"
        },
        "outputId": "768a9263-fb5a-4023-e40d-888f10ef7eeb"
      },
      "outputs": [
        {
          "output_type": "execute_result",
          "data": {
            "text/plain": [
              "array([[0.11432346, 0.22200353, 0.12632851, 0.54199492, 0.21547523, 0.13139614, 0.11396002, 0.11433158],\n",
              "       [0.15279837, 0.316179  , 0.438492  , 0.20015723, 0.24550352, 0.11365647, 0.20825645, 0.12252534],\n",
              "       [0.11693253, 0.23270411, 0.12531975, 0.13477515, 0.42318124, 0.63773291, 0.23598933, 0.64114121],\n",
              "       [0.61594564, 0.22911337, 0.30985974, 0.1230727 , 0.11584   , 0.11721448, 0.44179421, 0.12200187]])"
            ]
          },
          "metadata": {},
          "execution_count": 44
        }
      ],
      "source": [
        "n = np.zeros([N, W])\n",
        "\n",
        "# 행렬 n 먼저 계산\n",
        "for c in range(N):\n",
        "    for k in range(W):\n",
        "        # sum 순서는 sigma i 방향을 먼저 합하는 게 간단하므로 i먼저 j나중\n",
        "        # X[:, <<7>>] == c는 boolean 벡터로, X_i,j+k-1=c 조건을 담당한다.\n",
        "        n[c, k] = np.sum([(Z[:, j] * (X[:, j+k] == c)).sum()\n",
        "                          for j in range(L-W+1)])\n",
        "\n",
        "# M 계산\n",
        "M = n + pseudocount\n",
        "M = M / M.sum(axis=0)\n",
        "M"
      ]
    },
    {
      "cell_type": "markdown",
      "metadata": {
        "id": "WDKf0s2phpTi"
      },
      "source": [
        "백그라운드 벡터 B 업데이트하기. 앞의 $n_{c,k}$와 마찬가지로 슬라이드와는 축을 반대로 써야 행렬을 표시했을 때 보기 편하다.\n",
        "\n",
        "$B^{(t+1)}(c) = \\frac {n_{c,0}+d} {\\sum_c {(n_{c,0}+d)}}$\n",
        "\n",
        "$n_{c,0}=n_c-\\sum_{j=1}^W {n_{c,j}}$"
      ]
    },
    {
      "cell_type": "code",
      "execution_count": null,
      "metadata": {
        "id": "TxxoXd-yhpTi",
        "colab": {
          "base_uri": "https://localhost:8080/"
        },
        "outputId": "db7a0739-03da-49f2-a01b-e0bd454556f2"
      },
      "outputs": [
        {
          "output_type": "execute_result",
          "data": {
            "text/plain": [
              "array([0.24029297, 0.29489033, 0.2712164 , 0.1936003 ])"
            ]
          },
          "metadata": {},
          "execution_count": 45
        }
      ],
      "source": [
        "# nc는 시작할 때 미리 계산해 두었다.\n",
        "B = nc - n.sum(1) + pseudocount\n",
        "B = B / B.sum(0)\n",
        "B"
      ]
    },
    {
      "cell_type": "markdown",
      "metadata": {
        "id": "D18RzlYYhpTj"
      },
      "source": [
        "### 함수로 모아 두기\n",
        "\n",
        "여러 번 돌리기 쉽게 위의 코드를 모아서 함수로 만든다."
      ]
    },
    {
      "cell_type": "code",
      "execution_count": null,
      "metadata": {
        "id": "bWrSUUXnhpTj"
      },
      "outputs": [],
      "source": [
        "def Estep(X, B, L, W):\n",
        "    Z = np.zeros([X.shape[0], L-W+1])\n",
        "\n",
        "    for i in range(X.shape[0]):\n",
        "        for j in range(L-W+1):\n",
        "            pr_beforemotif = B[X[i, :j]]\n",
        "\n",
        "            subseq = X[i, j:j+W]\n",
        "            pr_motif = np.choose(subseq, M)\n",
        "\n",
        "            pr_aftermotif = B[X[i, j+W:]]\n",
        "\n",
        "            probs = np.hstack([pr_beforemotif, pr_motif, pr_aftermotif])\n",
        "            Z[i, j] = np.prod(probs)\n",
        "\n",
        "    return Z / Z.sum(axis=1)[:, np.newaxis]"
      ]
    },
    {
      "cell_type": "code",
      "execution_count": null,
      "metadata": {
        "id": "yuIkz7pyhpTj"
      },
      "outputs": [],
      "source": [
        "# 서열 맨 앞부분을 모아서 만든 초기 M을 계산한다\n",
        "def initialize_M(X, nc, N, W, pseudocount):\n",
        "    M = np.zeros([N, W])\n",
        "\n",
        "    for j in range(W): # for each column of motif\n",
        "        for c in range(N): # for each character in the alphabet\n",
        "            M[c, j] = np.mean(X[:, j] == c)\n",
        "\n",
        "    B = (nc + pseudocount) / (nc + pseudocount).sum()\n",
        "\n",
        "    return M, B"
      ]
    },
    {
      "cell_type": "code",
      "source": [
        "(np.array([1,1,1,2,1,1])==1).mean()"
      ],
      "metadata": {
        "colab": {
          "base_uri": "https://localhost:8080/"
        },
        "id": "V9wtl6YeYXv_",
        "outputId": "7ee71d8c-a4ca-4303-d182-ae642e53cd1e"
      },
      "execution_count": null,
      "outputs": [
        {
          "output_type": "execute_result",
          "data": {
            "text/plain": [
              "0.8333333333333334"
            ]
          },
          "metadata": {},
          "execution_count": 29
        }
      ]
    },
    {
      "cell_type": "code",
      "execution_count": null,
      "metadata": {
        "id": "gGROOt7phpTj"
      },
      "outputs": [],
      "source": [
        "def Mstep(X, Z, nc, N, W, pseudocount):\n",
        "    n = np.zeros([N,W])\n",
        "\n",
        "    for c in range(N):\n",
        "        for k in range(W):\n",
        "            n[c, k] = np.sum([(Z[:, j] * (X[:, j+k] == c)).sum()\n",
        "                             for j in range(L-W+1)])\n",
        "\n",
        "    M = n + pseudocount\n",
        "    M = M / M.sum(axis=0)\n",
        "\n",
        "    B = nc - n.sum(axis=1) + pseudocount\n",
        "    B = B / B.sum(axis=0)\n",
        "\n",
        "    return M, B"
      ]
    },
    {
      "cell_type": "markdown",
      "metadata": {
        "id": "zNbNK8x5hpTj"
      },
      "source": [
        "모아서 돌려보기!"
      ]
    },
    {
      "cell_type": "code",
      "execution_count": null,
      "metadata": {
        "id": "57GXdycghpTj",
        "colab": {
          "base_uri": "https://localhost:8080/"
        },
        "outputId": "2f002fd8-f4f2-4a71-e72f-625314c1437e"
      },
      "outputs": [
        {
          "output_type": "stream",
          "name": "stdout",
          "text": [
            "== (initial) M ==============================\n",
            "[[0.2 0.  0.  0.2 0.4 0.4 0.4 0. ]\n",
            " [0.4 0.2 0.8 0.4 0.2 0.4 0.  0.2]\n",
            " [0.  0.4 0.  0.4 0.2 0.2 0.2 0.6]\n",
            " [0.4 0.4 0.2 0.  0.2 0.  0.4 0.2]]\n",
            "== (initial) B ==============================\n",
            "[0.21052632 0.26315789 0.30701754 0.21929825]\n",
            "== (iteration 1) M ==============================\n",
            "[[0.22222222 0.11111111 0.11111111 0.23796052 0.37727192 0.33907291 0.26692284 0.11111111]\n",
            " [0.32725859 0.28990272 0.57688777 0.36501435 0.22158926 0.26982019 0.11111111 0.2132287 ]\n",
            " [0.11111111 0.32994908 0.11111111 0.28591402 0.22216856 0.27999578 0.28453562 0.47590988]\n",
            " [0.33940808 0.26903709 0.20089001 0.11111111 0.17897027 0.11111111 0.33743043 0.19975031]]\n",
            "== (iteration 1) B ==============================\n",
            "[0.21633711 0.22468494 0.32559113 0.23338682]\n"
          ]
        }
      ],
      "source": [
        "M, B = initialize_M(X, nc, N, W, pseudocount)\n",
        "print('== (initial) M', '=' * 30)\n",
        "print(M)\n",
        "print('== (initial) B', '=' * 30)\n",
        "print(B)\n",
        "\n",
        "Z = Estep(X, B, L, W)\n",
        "M, B = Mstep(X, Z, nc, N, W, pseudocount)\n",
        "print('== (iteration 1) M', '=' * 30)\n",
        "print(M)\n",
        "print('== (iteration 1) B', '=' * 30)\n",
        "print(B)"
      ]
    },
    {
      "cell_type": "markdown",
      "metadata": {
        "id": "earRs2mYhpTj"
      },
      "source": [
        "3번 돌려 보기"
      ]
    },
    {
      "cell_type": "code",
      "execution_count": null,
      "metadata": {
        "id": "qtUI57IqhpTk",
        "colab": {
          "base_uri": "https://localhost:8080/"
        },
        "outputId": "4654e086-8b69-4b22-d670-7a9efc619205"
      },
      "outputs": [
        {
          "output_type": "stream",
          "name": "stdout",
          "text": [
            "== (iteration 3) M ==============================\n",
            "[[0.18634348 0.16151798 0.15604622 0.32259716 0.33310843 0.27520033 0.1916729  0.14200058]\n",
            " [0.29672636 0.29843151 0.49845559 0.32271989 0.27562042 0.241829   0.13888125 0.23649783]\n",
            " [0.14897844 0.32498821 0.14900403 0.21700835 0.2086034  0.3396363  0.32400109 0.43846767]\n",
            " [0.36795172 0.2150623  0.19649417 0.1376746  0.18266775 0.14333438 0.34544476 0.18303392]]\n",
            "== (iteration 3) B ==============================\n",
            "[0.21734617 0.2326695  0.31951098 0.23047335]\n"
          ]
        }
      ],
      "source": [
        "M, B = initialize_M(X, nc, N, W, pseudocount)\n",
        "Z = Estep(X, B, L, W)\n",
        "M, B = Mstep(X, Z, nc, N, W, pseudocount)\n",
        "Z = Estep(X, B, L, W)\n",
        "M, B = Mstep(X, Z, nc, N, W, pseudocount)\n",
        "Z = Estep(X, B, L, W)\n",
        "M, B = Mstep(X, Z, nc, N, W, pseudocount)\n",
        "\n",
        "print('== (iteration 3) M', '=' * 30)\n",
        "print(M)\n",
        "print('== (iteration 3) B', '=' * 30)\n",
        "print(B)"
      ]
    },
    {
      "cell_type": "markdown",
      "metadata": {
        "id": "XLHS7ogmhpTk"
      },
      "source": [
        "delta M이 0.01% 이하가 될 때까지 E-M 반복하기"
      ]
    },
    {
      "cell_type": "code",
      "execution_count": null,
      "metadata": {
        "id": "8APSP6BWhpTk",
        "colab": {
          "base_uri": "https://localhost:8080/"
        },
        "outputId": "79b4cf7c-f2f2-4e7d-b29b-b3792f242db9"
      },
      "outputs": [
        {
          "output_type": "stream",
          "name": "stdout",
          "text": [
            "== (iteration 19) M ==============================\n",
            "[[0.1143238  0.22200403 0.12633712 0.54199454 0.21546759 0.13138975 0.11396067 0.11433231]\n",
            " [0.15282959 0.31616389 0.43851547 0.20013071 0.24550357 0.11365736 0.20826352 0.12252571]\n",
            " [0.11693418 0.23270185 0.12532932 0.1347949  0.42318754 0.63773664 0.23597487 0.64113687]\n",
            " [0.61591243 0.22913022 0.30981809 0.12307985 0.1158413  0.11721625 0.44180094 0.1220051 ]]\n",
            "== (iteration 19) B ==============================\n",
            "[0.2402934  0.29488772 0.27121398 0.1936049 ]\n"
          ]
        }
      ],
      "source": [
        "deltaM_threshold = 1e-4\n",
        "datalog = {'deltaM': [], 'B': [], 'Z': [], 'M': []}\n",
        "\n",
        "M, B = initialize_M(X, nc, N, W, pseudocount)\n",
        "for i in range(10000): # 최대 iteration 수를 10000으로 제한한다.\n",
        "    prev_M = M\n",
        "    Z = Estep(X, B, L, W)\n",
        "    M, B = Mstep(X, Z, nc, N, W, pseudocount)\n",
        "\n",
        "    # M 변화를 계산하고 주요 값들을 저장한다.\n",
        "    delta = (np.abs(M - prev_M) / M).mean()\n",
        "    datalog['deltaM'].append(delta)\n",
        "    datalog['B'].append(B)\n",
        "    datalog['Z'].append(Z)\n",
        "    datalog['M'].append(M)\n",
        "    if delta < deltaM_threshold:\n",
        "        break\n",
        "\n",
        "print(f'== (iteration {i+1}) M', '=' * 30)\n",
        "print(M)\n",
        "print(f'== (iteration {i+1}) B', '=' * 30)\n",
        "print(B)"
      ]
    },
    {
      "cell_type": "markdown",
      "metadata": {
        "id": "loU6a7m0hpTk"
      },
      "source": [
        "$\\Delta M$ 과 B 변화를 찍어본다."
      ]
    },
    {
      "cell_type": "code",
      "execution_count": null,
      "metadata": {
        "id": "JKfseb7ohpTk"
      },
      "outputs": [],
      "source": [
        "from matplotlib import pyplot as plt"
      ]
    },
    {
      "cell_type": "code",
      "execution_count": null,
      "metadata": {
        "id": "i3cEqkdMhpTk",
        "colab": {
          "base_uri": "https://localhost:8080/",
          "height": 370
        },
        "outputId": "52b99ced-bf77-4b20-f568-609eacc76f48"
      },
      "outputs": [
        {
          "output_type": "execute_result",
          "data": {
            "text/plain": [
              "Text(0.5, 0, 'Iteration')"
            ]
          },
          "metadata": {},
          "execution_count": 36
        },
        {
          "output_type": "display_data",
          "data": {
            "text/plain": [
              "<Figure size 800x400 with 2 Axes>"
            ],
            "image/png": "[encoded data removed]"
          },
          "metadata": {}
        }
      ],
      "source": [
        "fig, axes = plt.subplots(2, 1, figsize=(8, 4))\n",
        "axes[0].plot(datalog['deltaM'], marker='o', markersize=4)\n",
        "axes[0].axhline(deltaM_threshold, color='r', linestyle='--')\n",
        "axes[0].set_ylabel('$\\Delta M$')\n",
        "\n",
        "axes[1].plot(datalog['B'], marker='o', markersize=4, label=['A', 'C', 'G', 'T'])\n",
        "axes[1].legend()\n",
        "axes[1].set_ylabel('Freq. in B')\n",
        "axes[1].set_xlabel('Iteration')"
      ]
    },
    {
      "cell_type": "markdown",
      "metadata": {
        "id": "stmRLTDahpTk"
      },
      "source": [
        "Z, M의 변화도 한 번 찍어본다. Z에서는 맨 앞이 선택되다가 점차 뒤로 이동해서 motif가 제대로 선택되는 것이 보인다."
      ]
    },
    {
      "cell_type": "code",
      "execution_count": null,
      "metadata": {
        "id": "b1pA2zz9hpTk",
        "colab": {
          "base_uri": "https://localhost:8080/",
          "height": 607
        },
        "outputId": "8dd7d866-ba2d-42cc-ce45-3654a0ab26cd"
      },
      "outputs": [
        {
          "output_type": "display_data",
          "data": {
            "text/plain": [
              "<Figure size 600x600 with 12 Axes>"
            ],
            "image/png": "[encoded data removed]"
          },
          "metadata": {}
        }
      ],
      "source": [
        "fig, axes = plt.subplots(6, 2, figsize=(6, 6))\n",
        "\n",
        "# 왼쪽에는 Z를 그림\n",
        "for ax, i in zip(axes[:, 0], range(0, len(datalog['Z']), 2)):\n",
        "    ax.pcolor(datalog['Z'][i], vmin=0, vmax=.5)\n",
        "    plt.setp(ax.get_yticklabels() + ax.get_xticklabels(), visible=False)\n",
        "    ax.set_ylabel(f'Iter. {i+1}')\n",
        "    if i == 0:\n",
        "        ax.set_title('Z')\n",
        "\n",
        "# 오른쪽에 M 그림\n",
        "for ax, i in zip(axes[:, 1], range(0, len(datalog['M']), 2)):\n",
        "    ax.pcolor(datalog['M'][i], vmin=0.1, vmax=.4)\n",
        "    plt.setp(ax.get_yticklabels() + ax.get_xticklabels(), visible=False)\n",
        "    if i == 0:\n",
        "        ax.set_title('M')\n",
        "\n",
        "plt.tight_layout()"
      ]
    },
    {
      "cell_type": "markdown",
      "metadata": {
        "id": "U3IjUsMdhpTk"
      },
      "source": [
        "Consensus 모티프 찍어보기"
      ]
    },
    {
      "cell_type": "code",
      "execution_count": null,
      "metadata": {
        "id": "6wMyvKrJhpTk",
        "colab": {
          "base_uri": "https://localhost:8080/"
        },
        "outputId": "252691a0-33ba-4dcf-e249-8de8b017b57c"
      },
      "outputs": [
        {
          "output_type": "stream",
          "name": "stdout",
          "text": [
            "TCCAGGTG \t(consensus)\n",
            "--------------------\n",
            "TCTCGGGG\n",
            "TGTAAGTG\n",
            "TACAGGCG\n",
            "TTCAGGTG\n",
            "TCCACGTG\n"
          ]
        }
      ],
      "source": [
        "# M 에서 최대 확률인 염기들을 모은 consensus\n",
        "consensus = ''.join(np.choose(M.argmax(axis=0), 'ACGT'))\n",
        "\n",
        "# Z 에서 가장 확률이 높은 부분들을 고른 instances\n",
        "instances = [seqs[i][j:j+W] for i, j in enumerate(Z.argmax(axis=1))]\n",
        "\n",
        "print(consensus, '\\t(consensus)')\n",
        "print('--' * 10)\n",
        "print(*instances, sep='\\n')"
      ]
    },
    {
      "cell_type": "code",
      "source": [],
      "metadata": {
        "id": "Fm3dy4i2a5K6"
      },
      "execution_count": null,
      "outputs": []
    }
  ],
  "metadata": {
    "interpreter": {
      "hash": "aa89d62b8dcb58c24721fadbe84c295a8a712e290dc079849fd5d0ad10101e3d"
    },
    "kernelspec": {
      "display_name": "Python 3.9.2 ('lab2')",
      "language": "python",
      "name": "python3"
    },
    "language_info": {
      "codemirror_mode": {
        "name": "ipython",
        "version": 3
      },
      "file_extension": ".py",
      "mimetype": "text/x-python",
      "name": "python",
      "nbconvert_exporter": "python",
      "pygments_lexer": "ipython3",
      "version": "3.9.2"
    },
    "orig_nbformat": 4,
    "colab": {
      "provenance": [],
      "include_colab_link": true
    }
  },
  "nbformat": 4,
  "nbformat_minor": 0
}